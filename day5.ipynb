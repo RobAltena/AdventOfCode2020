{
  "nbformat": 4,
  "nbformat_minor": 0,
  "metadata": {
    "colab": {
      "name": "AdventOfCode2020_day5.ipynb",
      "private_outputs": true,
      "provenance": [],
      "authorship_tag": "ABX9TyNuqwYg7AXn17fykUYcv5A8",
      "include_colab_link": true
    },
    "kernelspec": {
      "name": "python3",
      "display_name": "Python 3"
    }
  },
  "cells": [
    {
      "cell_type": "markdown",
      "metadata": {
        "id": "view-in-github",
        "colab_type": "text"
      },
      "source": [
        "<a href=\"https://colab.research.google.com/github/RobAltena/AdventOfCode2020/blob/main/day5.ipynb\" target=\"_parent\"><img src=\"https://colab.research.google.com/assets/colab-badge.svg\" alt=\"Open In Colab\"/></a>"
      ]
    },
    {
      "cell_type": "code",
      "metadata": {
        "id": "n9TJMYEol0-L"
      },
      "source": [
        "import base64\n",
        "import requests\n",
        "import numpy as np\n",
        "\n",
        "req = requests.get(\"https://raw.githubusercontent.com/RobAltena/AdventOfCode2020/main/advent_day5_input.txt\").text"
      ],
      "execution_count": null,
      "outputs": []
    },
    {
      "cell_type": "code",
      "metadata": {
        "id": "ILjFlPWtmPFr"
      },
      "source": [
        "# Convert the silly code to a binary number.\n",
        "bin_lines = req.replace('B', '1')\\\n",
        "   .replace('F', '0')\\\n",
        "   .replace('R', '1')\\\n",
        "   .replace('L', '0').split()\n",
        "\n",
        "# Parse the binaruy numbers to decimal.\n",
        "dec_list = []\n",
        "for line in bin_lines:\n",
        "  dec = int(line, 2)\n",
        "  dec_list.append(dec)\n",
        "\n",
        "# Get the max with numpy:\n",
        "seats = np.array(dec_list)\n",
        "print('highest seat ID on a boarding pass: ', seats.max())"
      ],
      "execution_count": null,
      "outputs": []
    },
    {
      "cell_type": "code",
      "metadata": {
        "id": "FeSPans4nXb7"
      },
      "source": [
        "all_seats = np.arange(seats.min(), seats.max())\n",
        "mask = np.isin(all_seats, seats, invert=True)\n",
        "\n",
        "# There should be only one seat unassigned:\n",
        "print('My seat: ', all_seats[mask])"
      ],
      "execution_count": null,
      "outputs": []
    }
  ]
}