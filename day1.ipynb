{
  "nbformat": 4,
  "nbformat_minor": 0,
  "metadata": {
    "colab": {
      "name": "adventofcode2020_day1.ipynb",
      "private_outputs": true,
      "provenance": [],
      "authorship_tag": "ABX9TyMJkA+6J85M7KDEt2l+qkoR",
      "include_colab_link": true
    },
    "kernelspec": {
      "name": "python3",
      "display_name": "Python 3"
    }
  },
  "cells": [
    {
      "cell_type": "markdown",
      "metadata": {
        "id": "view-in-github",
        "colab_type": "text"
      },
      "source": [
        "<a href=\"https://colab.research.google.com/github/RobAltena/AdventOfCode2020/blob/main/day1.ipynb\" target=\"_parent\"><img src=\"https://colab.research.google.com/assets/colab-badge.svg\" alt=\"Open In Colab\"/></a>"
      ]
    },
    {
      "cell_type": "code",
      "metadata": {
        "id": "vxw4_kc2hUVV"
      },
      "source": [
        "# Advent of code 2020, day 1.\n",
        "# Find the product of 2 entries that sum to 2020.\n",
        "# part 2: Find the product of 3 entries that sum to 2020.\n",
        "\n",
        "import numpy as np"
      ],
      "execution_count": null,
      "outputs": []
    },
    {
      "cell_type": "code",
      "metadata": {
        "id": "f2Z8BBASq1fl"
      },
      "source": [
        "# Data as np array. \n",
        "# Copy the data in a python string, parse in a np array. Paste that array here.\n",
        "\n",
        "arr = np.array([1914, 1931, 1892, 1584, 1546, 1988, 1494, 1709, 1624, 1755, 1849,\n",
        "       1430, 1890, 1675, 1604, 1580, 1500, 1277, 1729, 1456, 2002, 1075,\n",
        "       1512,  895, 1843, 1921, 1904, 1989, 1407, 1552, 1714,  757, 1733,\n",
        "       1459, 1777, 1440, 1649, 1409, 1662, 1968, 1775, 1998, 1754, 1938,\n",
        "       1964, 1415, 1990, 1997, 1870, 1664, 1145, 1782, 1820, 1625, 1599,\n",
        "       1530, 1759, 1575, 1614, 1869, 1620, 1818, 1295, 1667, 1361, 1520,\n",
        "       1555, 1485, 1502, 1983, 1104, 1973, 1433, 1906, 1583, 1562, 1493,\n",
        "       1945, 1528, 1600, 1814, 1712, 1848, 1454, 1801, 1710, 1824, 1426,\n",
        "       1977, 1511, 1644, 1302, 1428, 1513, 1261, 1761, 1680, 1731, 1724,\n",
        "       1970,  907,  600, 1613, 1091, 1571, 1418, 1806, 1542, 1909, 1445,\n",
        "       1344, 1937, 1450, 1865, 1561, 1962, 1637, 1803, 1889,  365, 1810,\n",
        "       1791, 1591, 1532, 1863, 1658, 1808, 1816, 1837, 1764, 1443, 1805,\n",
        "       1616, 1403, 1656, 1661, 1734, 1930, 1120, 1920, 1227, 1618, 1640,\n",
        "       1586, 1982, 1534, 1278, 1269, 1572, 1654, 1472, 1974, 1748, 1425,\n",
        "       1553, 1708, 1394, 1417, 1746, 1745, 1834, 1787, 1298, 1786, 1966,\n",
        "       1768, 1932, 1523, 1356, 1547, 1634, 1951, 1922,  222, 1461, 1628,\n",
        "       1888, 1639,  473, 1568, 1783,  572, 1522, 1934, 1629, 1283, 1550,\n",
        "       1859, 2007, 1996, 1822,  996, 1911, 1689, 1537, 1793, 1762, 1677,\n",
        "       1266, 1715], dtype=np.int16)"
      ],
      "execution_count": null,
      "outputs": []
    },
    {
      "cell_type": "code",
      "metadata": {
        "id": "qSx3E66P7on0"
      },
      "source": [
        "xv, yv = np.meshgrid(arr, arr)\n",
        "z = xv + yv                          # 2D array with all sums of any 2 numbers in arr.\n",
        "entry = arr[np.argwhere(z==2020)[0]] # Pick 1st out of 2 permutations.\n",
        "print('The entries: ', entry)\n",
        "print('Checking the sum is 2020: ', entry.sum())\n",
        "print('Answer: ', entry.prod())"
      ],
      "execution_count": null,
      "outputs": []
    },
    {
      "cell_type": "code",
      "metadata": {
        "id": "OMtJuu1qAUvb"
      },
      "source": [
        "xv, yv, zv = np.meshgrid(arr, arr, arr)\n",
        "z = xv + yv + zv                      # 3D array with all sums of any 3 numbers in arr.\n",
        "entry = arr[np.argwhere(z==2020)[0]]# Pick 1st out of 6 permutations.\n",
        "print('The entries: ', entry)\n",
        "print('Checking the sum is 2020: ', entry.sum())\n",
        "print('Answer: ', entry.prod())"
      ],
      "execution_count": null,
      "outputs": []
    },
    {
      "cell_type": "code",
      "metadata": {
        "id": "y4GFc1P_F2v3"
      },
      "source": [
        "# unreadable one line versions:\n",
        "arr[np.argwhere(np.array(np.meshgrid(arr, arr)).sum(axis=0)==2020)[0]].prod()"
      ],
      "execution_count": null,
      "outputs": []
    },
    {
      "cell_type": "code",
      "metadata": {
        "id": "D3kOYcIhHaUX"
      },
      "source": [
        "arr[np.argwhere(np.array(np.meshgrid(arr, arr, arr)).sum(axis=0)==2020)[0]].prod()"
      ],
      "execution_count": null,
      "outputs": []
    }
  ]
}