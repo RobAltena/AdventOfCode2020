{
  "nbformat": 4,
  "nbformat_minor": 0,
  "metadata": {
    "colab": {
      "name": "adventofcode2020_day1.ipynb",
      "private_outputs": true,
      "provenance": [],
      "authorship_tag": "ABX9TyMwU18CJKvw1nF4ApgVrsHJ",
      "include_colab_link": true
    },
    "kernelspec": {
      "name": "python3",
      "display_name": "Python 3"
    }
  },
  "cells": [
    {
      "cell_type": "markdown",
      "metadata": {
        "id": "view-in-github",
        "colab_type": "text"
      },
      "source": [
        "<a href=\"https://colab.research.google.com/github/RobAltena/AdventOfCode2020/blob/main/day1.ipynb\" target=\"_parent\"><img src=\"https://colab.research.google.com/assets/colab-badge.svg\" alt=\"Open In Colab\"/></a>"
      ]
    },
    {
      "cell_type": "code",
      "metadata": {
        "id": "vxw4_kc2hUVV"
      },
      "source": [
        "# Advent of code 2020, day 1.\n",
        "# Find the product of 2 entries that sum to 2020.\n",
        "# part 2: Find the product of 3 entries that sum to 2020.\n",
        "\n",
        "import base64\n",
        "import requests\n",
        "import numpy as np\n",
        "\n",
        "# Read the input file from our github rep and make it a numpy array.\n",
        "req = requests.get(\"https://raw.githubusercontent.com/RobAltena/AdventOfCode2020/main/advent_day1_input.txt\").text\n",
        "arr = np.array(req.split(), dtype=np.int16)"
      ],
      "execution_count": null,
      "outputs": []
    },
    {
      "cell_type": "code",
      "metadata": {
        "id": "qSx3E66P7on0"
      },
      "source": [
        "xv, yv = np.meshgrid(arr, arr)\n",
        "z = xv + yv                          # 2D array with all sums of any 2 numbers in arr.\n",
        "entry = arr[np.argwhere(z==2020)[0]] # Pick 1st out of 2 permutations.\n",
        "print('The entries: ', entry)\n",
        "print('Checking the sum is 2020: ', entry.sum())\n",
        "print('Answer: ', entry.prod())"
      ],
      "execution_count": null,
      "outputs": []
    },
    {
      "cell_type": "code",
      "metadata": {
        "id": "OMtJuu1qAUvb"
      },
      "source": [
        "xv, yv, zv = np.meshgrid(arr, arr, arr)\n",
        "z = xv + yv + zv                      # 3D array with all sums of any 3 numbers in arr.\n",
        "entry = arr[np.argwhere(z==2020)[0]]# Pick 1st out of 6 permutations.\n",
        "print('The entries: ', entry)\n",
        "print('Checking the sum is 2020: ', entry.sum())\n",
        "print('Answer: ', entry.prod())"
      ],
      "execution_count": null,
      "outputs": []
    },
    {
      "cell_type": "code",
      "metadata": {
        "id": "y4GFc1P_F2v3"
      },
      "source": [
        "# unreadable one line versions:\n",
        "arr[np.argwhere(np.array(np.meshgrid(arr, arr)).sum(axis=0)==2020)[0]].prod()"
      ],
      "execution_count": null,
      "outputs": []
    },
    {
      "cell_type": "code",
      "metadata": {
        "id": "D3kOYcIhHaUX"
      },
      "source": [
        "arr[np.argwhere(np.array(np.meshgrid(arr, arr, arr)).sum(axis=0)==2020)[0]].prod()"
      ],
      "execution_count": null,
      "outputs": []
    }
  ]
}