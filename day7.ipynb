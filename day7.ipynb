{
  "nbformat": 4,
  "nbformat_minor": 0,
  "metadata": {
    "colab": {
      "name": "AdventOfCode2020_day7.ipynb",
      "private_outputs": true,
      "provenance": [],
      "authorship_tag": "ABX9TyNHsK/BTMtRejch6ncjYllE",
      "include_colab_link": true
    },
    "kernelspec": {
      "name": "python3",
      "display_name": "Python 3"
    }
  },
  "cells": [
    {
      "cell_type": "markdown",
      "metadata": {
        "id": "view-in-github",
        "colab_type": "text"
      },
      "source": [
        "<a href=\"https://colab.research.google.com/github/RobAltena/AdventOfCode2020/blob/main/day7.ipynb\" target=\"_parent\"><img src=\"https://colab.research.google.com/assets/colab-badge.svg\" alt=\"Open In Colab\"/></a>"
      ]
    },
    {
      "cell_type": "code",
      "metadata": {
        "id": "X9VbPKCTxznD"
      },
      "source": [
        "import base64\n",
        "import requests\n",
        "\n",
        "req = requests.get(\"https://raw.githubusercontent.com/RobAltena/AdventOfCode2020/main/advent_day7_input.txt\").text"
      ],
      "execution_count": null,
      "outputs": []
    },
    {
      "cell_type": "code",
      "metadata": {
        "id": "zsybo6YAx8hy"
      },
      "source": [
        "def parse_rule_rhs(x):\n",
        "  if x != 'no other bags.':\n",
        "    return \" \".join(x.split()[1:3])\n",
        "\n",
        "# For the first part we only need to track the colors.\n",
        "rules = req.split('\\n')[:-1]\n",
        "rules_dict = {}\n",
        "for rule in rules:\n",
        "  left, right = rule.split(' contain ')\n",
        "  left_type = \" \".join(left.split()[:2])\n",
        "  right_types = list(map(parse_rule_rhs, right.split(',')))\n",
        "  rules_dict[left_type] = right_types\n",
        "\n",
        "def scan_for_bag(x):\n",
        "  res = []\n",
        "  for key, value in rules_dict.items():\n",
        "    if x in value:\n",
        "      res.append(key)\n",
        "  return res"
      ],
      "execution_count": null,
      "outputs": []
    },
    {
      "cell_type": "code",
      "metadata": {
        "id": "zC5a4ueKF1Gy"
      },
      "source": [
        "processed = set()\n",
        "todo = {'shiny gold'}\n",
        "\n",
        "while len(todo) > 0:\n",
        "  x = todo.pop()\n",
        "  processed.add(x)\n",
        "  res = scan_for_bag(x)\n",
        "  for r in res:\n",
        "    if r not in processed:\n",
        "      todo.add(r)\n",
        "\n",
        "print('How many bag colors can eventually contain at least one shiny gold bag?')\n",
        "print(len(processed) - 1)  #exclude the original shiny gold bag."
      ],
      "execution_count": null,
      "outputs": []
    },
    {
      "cell_type": "code",
      "metadata": {
        "id": "HkDnBT4gcJdG"
      },
      "source": [
        "# For the second part we need to track the contents.\n",
        "\n",
        "def parse_rule_rhs2(x):\n",
        "  if x != 'no other bags.':\n",
        "    words = x.split()\n",
        "    no_bags = int(words[0])\n",
        "    bag_color = \" \".join(words[1:3])\n",
        "    return (no_bags, bag_color)\n",
        "\n",
        "rules_dict = {}\n",
        "for rule in rules:\n",
        "  left, right = rule.split(' contain ')\n",
        "  left_type = \" \".join(left.split()[:2])\n",
        "  right_types = list(map(parse_rule_rhs2, right.split(',')))\n",
        "  rules_dict[left_type] = right_types\n",
        "\n",
        "# And a recursive fuction to count the bags.\n",
        "def count_bags(color):\n",
        "  contents = rules_dict[color]\n",
        "  if contents[0] is None:\n",
        "    return 0\n",
        "  else:\n",
        "    tmp = 0\n",
        "    for no_bags, bag_color in contents:\n",
        "      tmp += no_bags + no_bags * count_bags(bag_color)\n",
        "  \n",
        "    return tmp\n"
      ],
      "execution_count": null,
      "outputs": []
    },
    {
      "cell_type": "code",
      "metadata": {
        "id": "0u83zFxVeSpo"
      },
      "source": [
        "print('How many individual bags are required inside your single shiny gold bag?')\n",
        "print(count_bags('shiny gold'))"
      ],
      "execution_count": null,
      "outputs": []
    }
  ]
}