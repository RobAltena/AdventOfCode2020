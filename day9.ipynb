{
  "nbformat": 4,
  "nbformat_minor": 0,
  "metadata": {
    "colab": {
      "name": "AdventOfCode2020_day9.ipynb",
      "private_outputs": true,
      "provenance": [],
      "authorship_tag": "ABX9TyNrGtY5gUGyM+G44PflKQ67",
      "include_colab_link": true
    },
    "kernelspec": {
      "name": "python3",
      "display_name": "Python 3"
    }
  },
  "cells": [
    {
      "cell_type": "markdown",
      "metadata": {
        "id": "view-in-github",
        "colab_type": "text"
      },
      "source": [
        "<a href=\"https://colab.research.google.com/github/RobAltena/AdventOfCode2020/blob/main/day9.ipynb\" target=\"_parent\"><img src=\"https://colab.research.google.com/assets/colab-badge.svg\" alt=\"Open In Colab\"/></a>"
      ]
    },
    {
      "cell_type": "code",
      "metadata": {
        "id": "jw0ekHxNBPsB"
      },
      "source": [
        "import base64\r\n",
        "import requests\r\n",
        "import numpy as np\r\n",
        "\r\n",
        "# Read the input file from our github rep and make it a numpy array.\r\n",
        "req = requests.get(\"https://raw.githubusercontent.com/RobAltena/AdventOfCode2020/main/advent_day9_input.txt\").text\r\n",
        "arr = np.array(req.split(), dtype=np.int64)"
      ],
      "execution_count": null,
      "outputs": []
    },
    {
      "cell_type": "code",
      "metadata": {
        "id": "HeyAflNWB2yF"
      },
      "source": [
        "# Each number you receive should be the sum of any two of the 25 immediately previous numbers.\r\n",
        "\r\n",
        "for index in range(26, len(arr)):\r\n",
        "  x = arr[index]\r\n",
        "  x_pre25 = arr[index-25:index]\r\n",
        "  x_c = np.subtract(x, x_pre25)\r\n",
        "  # print(x, np.intersect1d(x_pre25, x_c))\r\n",
        "  if len(np.intersect1d(x_pre25, x_c)) < 2:\r\n",
        "    print('What is the first number that does not have this property?', x)\r\n",
        "    break\r\n",
        "\r\n",
        "target = x"
      ],
      "execution_count": null,
      "outputs": []
    },
    {
      "cell_type": "code",
      "metadata": {
        "id": "gxlneY-8SJeF"
      },
      "source": [
        "for index in range(len(arr)):\r\n",
        "   x = arr[index:].cumsum()\r\n",
        "   idx = np.argwhere(x == target)\r\n",
        "   if len(idx) > 0:\r\n",
        "     print('Found starting at index:', index)\r\n",
        "     print('until index:', idx)\r\n",
        "     res = arr[index:index+idx[0][0]+1] # This is a bit hacky...\r\n",
        "     print('add together the smallest and largest number in this contiguous range:', res.min() + res.max() )\r\n",
        "     break"
      ],
      "execution_count": null,
      "outputs": []
    }
  ]
}