{
  "nbformat": 4,
  "nbformat_minor": 0,
  "metadata": {
    "colab": {
      "name": "AdventOfCode2020_day2.ipynb",
      "private_outputs": true,
      "provenance": [],
      "authorship_tag": "ABX9TyMndQOnAwN2zPk/Sl+7beSv",
      "include_colab_link": true
    },
    "kernelspec": {
      "name": "python3",
      "display_name": "Python 3"
    }
  },
  "cells": [
    {
      "cell_type": "markdown",
      "metadata": {
        "id": "view-in-github",
        "colab_type": "text"
      },
      "source": [
        "<a href=\"https://colab.research.google.com/github/RobAltena/AdventOfCode2020/blob/main/day2.ipynb\" target=\"_parent\"><img src=\"https://colab.research.google.com/assets/colab-badge.svg\" alt=\"Open In Colab\"/></a>"
      ]
    },
    {
      "cell_type": "markdown",
      "metadata": {
        "id": "9fu1EjLwNySR"
      },
      "source": [
        "There are no heroics or cleverness on day 2. \n",
        "Split the data in lines. Verify the rules. Then the rules change, verify again.\n"
      ]
    },
    {
      "cell_type": "code",
      "metadata": {
        "id": "KGfL5X-Wye5W"
      },
      "source": [
        "import base64\n",
        "import requests\n",
        "\n",
        "data = requests.get(\"https://raw.githubusercontent.com/RobAltena/AdventOfCode2020/main/advent_day2_input.txt\").text\n",
        "lines = data.split('\\n')[:-1] #hacking out the last empty line."
      ],
      "execution_count": null,
      "outputs": []
    },
    {
      "cell_type": "code",
      "metadata": {
        "id": "xBhsaFSMJA3O"
      },
      "source": [
        "# First rule. count characters in pwd and make sure they are between min and max\n",
        "def checkrule(limit_min, limit_max, character, pwd):\n",
        "  count = 0\n",
        "  for c in pwd:\n",
        "    if c==character:\n",
        "      count+=1\n",
        "  \n",
        "  return count >= int(limit_min) and count <= int(limit_max)"
      ],
      "execution_count": null,
      "outputs": []
    },
    {
      "cell_type": "code",
      "metadata": {
        "id": "Ok161E0pG549"
      },
      "source": [
        "# Parse the lines, check the rule.\n",
        "valid = 0\n",
        "for line in lines:\n",
        "  limits, character, pwd = line.split()\n",
        "  limit_min, limit_max = limits.split('-')\n",
        "  character = character[0]\n",
        "  if checkrule(limit_min, limit_max, character, pwd):\n",
        "    valid+=1\n",
        "\n",
        "print('answer: ', valid)"
      ],
      "execution_count": null,
      "outputs": []
    },
    {
      "cell_type": "code",
      "metadata": {
        "id": "sGNfqIrGLn5c"
      },
      "source": [
        "# For part 2 we get a new rule. \n",
        "# This code would fail if the password is too showrt for the positions. But that never happens.\n",
        "def checkrule_2(pos1, pos2, character, pwd):\n",
        "  rule1 = pwd[pos1-1] == character\n",
        "  rule2 = pwd[pos2-1] == character\n",
        "  \n",
        "  return rule1 ^ rule2"
      ],
      "execution_count": null,
      "outputs": []
    },
    {
      "cell_type": "code",
      "metadata": {
        "id": "Z-bma9WyNUtU"
      },
      "source": [
        "# Parse the lines, check the rule.\n",
        "valid = 0\n",
        "for line in lines:\n",
        "  positions, character, pwd = line.split()\n",
        "  pos1, pos2 = positions.split('-')\n",
        "  character = character[0]\n",
        "  if checkrule_2(int(pos1), int(pos2), character, pwd):\n",
        "    valid+=1\n",
        "\n",
        "print('answer: ',  valid)"
      ],
      "execution_count": null,
      "outputs": []
    }
  ]
}