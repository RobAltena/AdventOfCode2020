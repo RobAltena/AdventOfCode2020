{
  "nbformat": 4,
  "nbformat_minor": 0,
  "metadata": {
    "colab": {
      "name": "AdventOfCode2020_day6.ipynb",
      "private_outputs": true,
      "provenance": [],
      "authorship_tag": "ABX9TyOwBwpiwIPPsPEMAHXuPFA9",
      "include_colab_link": true
    },
    "kernelspec": {
      "name": "python3",
      "display_name": "Python 3"
    }
  },
  "cells": [
    {
      "cell_type": "markdown",
      "metadata": {
        "id": "view-in-github",
        "colab_type": "text"
      },
      "source": [
        "<a href=\"https://colab.research.google.com/github/RobAltena/AdventOfCode2020/blob/main/day6.ipynb\" target=\"_parent\"><img src=\"https://colab.research.google.com/assets/colab-badge.svg\" alt=\"Open In Colab\"/></a>"
      ]
    },
    {
      "cell_type": "code",
      "metadata": {
        "id": "1PJuoqh81FV_"
      },
      "source": [
        "import base64\n",
        "import requests\n",
        "\n",
        "req = requests.get(\"https://raw.githubusercontent.com/RobAltena/AdventOfCode2020/main/advent_day6_input.txt\").text"
      ],
      "execution_count": null,
      "outputs": []
    },
    {
      "cell_type": "code",
      "metadata": {
        "id": "xFg6ysVO1-Rn"
      },
      "source": [
        "lines = req.split('\\n')\n",
        "\n",
        "# For each group, count the number of questions to which anyone answered \"yes\".\n",
        "group = ''\n",
        "sum = 0\n",
        "for line in lines:\n",
        "  group += line #Just add all the answers in a string\n",
        "  if line == '':\n",
        "    sum += len(set(group)) # make a set to discard all duplicates and sum.\n",
        "    # print('count for group ', len(set(group)), \": \", group)\n",
        "    group = ''\n",
        "  \n",
        "\n",
        "print('the sum of those counts: ', sum)"
      ],
      "execution_count": null,
      "outputs": []
    },
    {
      "cell_type": "code",
      "metadata": {
        "id": "ppna5tXz5g5V"
      },
      "source": [
        "# For each group, count the number of questions to which everyone answered \"yes\".\n",
        "group = []\n",
        "sum = 0\n",
        "for line in lines:\n",
        "  if line == '':\n",
        "    sum += len(set.intersection(*group)) # the intersection of all the sets.\n",
        "    # group_set = set.intersection(*group) \n",
        "    # print(len(group_set), group_set)\n",
        "\n",
        "    group = []\n",
        "  else:\n",
        "    group.append(set(line)) #Turn each answer into a set.\n",
        "\n",
        "print('the sum of those counts: ', sum)"
      ],
      "execution_count": null,
      "outputs": []
    }
  ]
}