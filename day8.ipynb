{
  "nbformat": 4,
  "nbformat_minor": 0,
  "metadata": {
    "colab": {
      "name": "AdventOfCode2020_day8.ipynb",
      "private_outputs": true,
      "provenance": [],
      "authorship_tag": "ABX9TyNEw814d2gmP0cI92+O0Ht9",
      "include_colab_link": true
    },
    "kernelspec": {
      "name": "python3",
      "display_name": "Python 3"
    }
  },
  "cells": [
    {
      "cell_type": "markdown",
      "metadata": {
        "id": "view-in-github",
        "colab_type": "text"
      },
      "source": [
        "<a href=\"https://colab.research.google.com/github/RobAltena/AdventOfCode2020/blob/main/day8.ipynb\" target=\"_parent\"><img src=\"https://colab.research.google.com/assets/colab-badge.svg\" alt=\"Open In Colab\"/></a>"
      ]
    },
    {
      "cell_type": "code",
      "metadata": {
        "id": "FoQTEHsOE2za"
      },
      "source": [
        "import base64\n",
        "import requests\n",
        "\n",
        "req = requests.get(\"https://raw.githubusercontent.com/RobAltena/AdventOfCode2020/main/advent_day8_input.txt\").text"
      ],
      "execution_count": null,
      "outputs": []
    },
    {
      "cell_type": "code",
      "metadata": {
        "id": "2FXgX6kSFPVE"
      },
      "source": [
        "code = req.split('\\n')[:-1]\n",
        "executed_lines = set()\n",
        "current_line = 0\n",
        "acc = 0\n",
        "\n",
        "while current_line not in executed_lines:\n",
        "  code_line = code[current_line]\n",
        "  instruction = code_line[:3]\n",
        "  argument = int(code_line[4:])\n",
        "\n",
        "  executed_lines.add(current_line)\n",
        "\n",
        "  if instruction == 'acc':\n",
        "    acc += argument\n",
        "  \n",
        "  if instruction == 'jmp':\n",
        "    current_line += argument -1 \n",
        "\n",
        "  current_line += 1\n",
        "  \n",
        "print('Immediately before any instruction is executed a second time, what value is in the accumulator?')\n",
        "print(acc)"
      ],
      "execution_count": null,
      "outputs": []
    },
    {
      "cell_type": "code",
      "metadata": {
        "id": "SScqdpDoKIKi"
      },
      "source": [
        "# For the second part we need to try many programs. \n",
        "# So lets pack it neatly in one routine that returns False if we loop, \n",
        "# True if we terminate correctly.\n",
        "# Also return the value of the accumulator.\n",
        "\n",
        "def check_program(code):\n",
        "  executed_lines = set()\n",
        "  current_line = 0\n",
        "  acc = 0\n",
        "\n",
        "  while True:\n",
        "    if current_line in executed_lines:\n",
        "      return False, acc\n",
        "    if current_line == len(code):\n",
        "      return True, acc\n",
        "    \n",
        "    code_line = code[current_line]\n",
        "    instruction = code_line[:3]\n",
        "    argument = int(code_line[4:])\n",
        "\n",
        "    executed_lines.add(current_line)\n",
        "\n",
        "    if instruction == 'acc':\n",
        "      acc += argument\n",
        "    \n",
        "    if instruction == 'jmp':\n",
        "      current_line += argument -1 \n",
        "\n",
        "    current_line += 1\n",
        "\n"
      ],
      "execution_count": null,
      "outputs": []
    },
    {
      "cell_type": "code",
      "metadata": {
        "id": "frd8m5XyLuaA"
      },
      "source": [
        "check_program(code) # Make sure we get the answer we wexpect for part 1 again."
      ],
      "execution_count": null,
      "outputs": []
    },
    {
      "cell_type": "code",
      "metadata": {
        "id": "q2B7UfzNL20_"
      },
      "source": [
        "# We are just going to change each line that may be buggy and see what happens.\n",
        "for index in range(len(code)):\n",
        "  command = code[index][:3]\n",
        "  if command != 'acc':\n",
        "    old_line = code[index]\n",
        "    new_command = \"nop\" if command == \"jmp\" else \"jmp\"\n",
        "    code[index] = new_command + old_line[3:]\n",
        "    result, acc = check_program(code)\n",
        "    code[index] = old_line\n",
        "    if result:\n",
        "      print('What is the value of the accumulator after the program terminates?', acc)\n",
        "      break"
      ],
      "execution_count": null,
      "outputs": []
    }
  ]
}