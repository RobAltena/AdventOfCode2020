{
  "nbformat": 4,
  "nbformat_minor": 0,
  "metadata": {
    "colab": {
      "name": "AdventOfCode2020_day3.ipynb",
      "private_outputs": true,
      "provenance": [],
      "authorship_tag": "ABX9TyPrEaGfwT4uNx14fCMHtmew",
      "include_colab_link": true
    },
    "kernelspec": {
      "name": "python3",
      "display_name": "Python 3"
    }
  },
  "cells": [
    {
      "cell_type": "markdown",
      "metadata": {
        "id": "view-in-github",
        "colab_type": "text"
      },
      "source": [
        "<a href=\"https://colab.research.google.com/github/RobAltena/AdventOfCode2020/blob/main/day3.ipynb\" target=\"_parent\"><img src=\"https://colab.research.google.com/assets/colab-badge.svg\" alt=\"Open In Colab\"/></a>"
      ]
    },
    {
      "cell_type": "code",
      "metadata": {
        "id": "TvwIMSg1hZsp"
      },
      "source": [
        "import base64\n",
        "import requests\n",
        "import numpy as np\n",
        "\n",
        "data = requests.get(\"https://raw.githubusercontent.com/RobAltena/AdventOfCode2020/main/advent_day3_input.txt\").text\n",
        "lines = data.split('\\n')[:-1] #Take out the empty last line.\n"
      ],
      "execution_count": null,
      "outputs": []
    },
    {
      "cell_type": "code",
      "metadata": {
        "id": "raN2AIRbiIAp"
      },
      "source": [
        "width = len(lines[0])\n",
        "height = len(lines)\n",
        "print('input width and height: ', width, height)"
      ],
      "execution_count": null,
      "outputs": []
    },
    {
      "cell_type": "code",
      "metadata": {
        "id": "84TpGiHwiMWh"
      },
      "source": [
        "def count_trees(dx, dy):\n",
        "  x=0\n",
        "  y=0\n",
        "  trees = 0\n",
        "  while y < height:\n",
        "    trees += int(lines[y][x] == '#')\n",
        "    x = (x + dx) % width\n",
        "    y+= dy\n",
        "\n",
        "  return trees"
      ],
      "execution_count": null,
      "outputs": []
    },
    {
      "cell_type": "code",
      "metadata": {
        "id": "tMg1dmK0j3Vj"
      },
      "source": [
        "print('answer for part 1:', count_trees(3, 1) )"
      ],
      "execution_count": null,
      "outputs": []
    },
    {
      "cell_type": "code",
      "metadata": {
        "id": "br1bK2GUvWcr"
      },
      "source": [
        "print('answer for part 2:', np.array([count_trees(1, 1), \n",
        "          count_trees(3, 1),\n",
        "          count_trees(5, 1),\n",
        "          count_trees(7, 1),\n",
        "          count_trees(1, 2)]).prod())"
      ],
      "execution_count": null,
      "outputs": []
    }
  ]
}