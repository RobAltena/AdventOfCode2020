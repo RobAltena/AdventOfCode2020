{
  "nbformat": 4,
  "nbformat_minor": 0,
  "metadata": {
    "colab": {
      "name": "AdventOfCode2020_day3.ipynb",
      "private_outputs": true,
      "provenance": [],
      "authorship_tag": "ABX9TyNq9OGANNYOQz0w7gz+wHdD",
      "include_colab_link": true
    },
    "kernelspec": {
      "name": "python3",
      "display_name": "Python 3"
    }
  },
  "cells": [
    {
      "cell_type": "markdown",
      "metadata": {
        "id": "view-in-github",
        "colab_type": "text"
      },
      "source": [
        "<a href=\"https://colab.research.google.com/github/RobAltena/AdventOfCode2020/blob/main/day3.ipynb\" target=\"_parent\"><img src=\"https://colab.research.google.com/assets/colab-badge.svg\" alt=\"Open In Colab\"/></a>"
      ]
    },
    {
      "cell_type": "code",
      "metadata": {
        "id": "TvwIMSg1hZsp"
      },
      "source": [
        "import pandas as pd\n",
        "import numpy as np"
      ],
      "execution_count": null,
      "outputs": []
    },
    {
      "cell_type": "code",
      "metadata": {
        "id": "-6ajJK0thpP5"
      },
      "source": [
        "df = pd.read_csv('https://raw.githubusercontent.com/RobAltena/AdventOfCode2020/main/advent_day3_input.txt', header = None)\n",
        "\n",
        "# helper to get the i-th line and map improve readability.\n",
        "def line(i):\n",
        "  return df.iloc[i][0]\n",
        "\n",
        "def map(x,y):\n",
        "  return line(y)[x]"
      ],
      "execution_count": null,
      "outputs": []
    },
    {
      "cell_type": "code",
      "metadata": {
        "id": "raN2AIRbiIAp"
      },
      "source": [
        "width = len(line(0))\n",
        "height = df.size\n",
        "print('input width and height: ', width, height)"
      ],
      "execution_count": null,
      "outputs": []
    },
    {
      "cell_type": "code",
      "metadata": {
        "id": "84TpGiHwiMWh"
      },
      "source": [
        "def count_trees(dx, dy):\n",
        "  x=0\n",
        "  y=0\n",
        "  trees = 0\n",
        "  while y < height:\n",
        "    trees += int(map(x,y) == '#')\n",
        "    x = (x + dx) % width\n",
        "    y+= dy\n",
        "\n",
        "  return trees"
      ],
      "execution_count": null,
      "outputs": []
    },
    {
      "cell_type": "code",
      "metadata": {
        "id": "tMg1dmK0j3Vj"
      },
      "source": [
        "print('answer for part 1:', count_trees(3, 1) )"
      ],
      "execution_count": null,
      "outputs": []
    },
    {
      "cell_type": "code",
      "metadata": {
        "id": "br1bK2GUvWcr"
      },
      "source": [
        "print('answer for part 2:', np.array([count_trees(1, 1), \n",
        "          count_trees(3, 1),\n",
        "          count_trees(5, 1),\n",
        "          count_trees(7, 1),\n",
        "          count_trees(1, 2)]).prod())"
      ],
      "execution_count": null,
      "outputs": []
    }
  ]
}