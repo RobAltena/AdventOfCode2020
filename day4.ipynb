{
  "nbformat": 4,
  "nbformat_minor": 0,
  "metadata": {
    "colab": {
      "name": "AdventOfCode2020_day4.ipynb",
      "private_outputs": true,
      "provenance": [],
      "authorship_tag": "ABX9TyNbvWDjupQjLs/cRDKIGuBK",
      "include_colab_link": true
    },
    "kernelspec": {
      "name": "python3",
      "display_name": "Python 3"
    }
  },
  "cells": [
    {
      "cell_type": "markdown",
      "metadata": {
        "id": "view-in-github",
        "colab_type": "text"
      },
      "source": [
        "<a href=\"https://colab.research.google.com/github/RobAltena/AdventOfCode2020/blob/main/day4.ipynb\" target=\"_parent\"><img src=\"https://colab.research.google.com/assets/colab-badge.svg\" alt=\"Open In Colab\"/></a>"
      ]
    },
    {
      "cell_type": "code",
      "metadata": {
        "id": "bcE_acmEb84o"
      },
      "source": [
        "import base64\n",
        "import requests\n",
        "import re\n",
        "\n",
        "req = requests.get(\"https://raw.githubusercontent.com/RobAltena/AdventOfCode2020/main/advent_day4_input.txt\").text\n",
        "keys = [\"ecl\", \"pid\", \"eyr\", \"hcl\", \"byr\", \"iyr\", \"hgt\"]\n",
        "lines = req.split('\\n')\n"
      ],
      "execution_count": null,
      "outputs": []
    },
    {
      "cell_type": "code",
      "metadata": {
        "id": "QILrhr96ctCK"
      },
      "source": [
        "# Part 1 not too hard: We just check for the presence of the keys. There is no input where the keys are part of the data.\n",
        "def check_passport(passport):\n",
        "  tmp = True\n",
        "  for key in keys:\n",
        "    if key not in passport: # simple check for key presence. (hope there are no key names in hthe values.)\n",
        "      tmp = False\n",
        "  return tmp\n",
        "\n",
        "passport = ''\n",
        "valid = 0\n",
        "for line in lines:\n",
        "  if line == '':\n",
        "    valid += int(check_passport(passport))\n",
        "    passport = ''\n",
        "  else:\n",
        "    passport += line + ' '\n",
        "\n",
        "print(\"Number of valid passports:\", valid)"
      ],
      "execution_count": null,
      "outputs": []
    },
    {
      "cell_type": "code",
      "metadata": {
        "id": "AJB8JMRM5tZE"
      },
      "source": [
        "def check_between_min_max(field, min, max, key):\n",
        "  res = True\n",
        "  if field.isdigit():\n",
        "    val = int(field)\n",
        "    res = val >=min and val <=max\n",
        "  else:\n",
        "    res = False \n",
        "\n",
        "  return res\n",
        "\n",
        "def check_byr(field):\n",
        "  return check_between_min_max(field, 1920, 2002, 'byr')\n",
        "\n",
        "def check_iyr(field):\n",
        "  return check_between_min_max(field, 2010, 2020, 'iyr')\n",
        "\n",
        "def check_eyr(field):\n",
        "  return check_between_min_max(field, 2020, 2030, 'eyr')\n",
        "\n",
        "def check_hgt(field):\n",
        "  unit = field[-2:]\n",
        "  hgt = field[:-2]\n",
        "  \n",
        "  if unit == \"cm\":\n",
        "    return check_between_min_max(hgt, 150, 193, 'hgt cm')\n",
        "\n",
        "  if unit == \"in\":\n",
        "    return check_between_min_max(hgt, 59, 76, 'hgt in')\n",
        "\n",
        "  return False\n",
        "\n",
        "regex_hcl = re.compile('\\A#[0-9a-z]{6}\\Z')\n",
        "def check_hcl(field):\n",
        "  return regex_hcl.fullmatch(field) is not None\n",
        "\n",
        "list_ecl = ['amb',  'blu', 'brn', 'gry', 'grn', 'hzl', 'oth']\n",
        "def check_ecl(field):\n",
        "  return field in list_ecl\n",
        "\n",
        "regex_pid = re.compile('\\A[0-9]{9}\\Z')\n",
        "def check_pid(field):\n",
        "  return regex_pid.fullmatch(field) is not None"
      ],
      "execution_count": null,
      "outputs": []
    },
    {
      "cell_type": "code",
      "metadata": {
        "id": "6Xh0dlF2j62I"
      },
      "source": [
        "def check_passport2(passport):\n",
        "  fields = passport.split(' ')[:-1]\n",
        "  dict = {} \n",
        "  for field in fields:\n",
        "    key, value = field.split(':')\n",
        "    dict[key] = value\n",
        "  \n",
        "  checks = [ check_byr(dict['byr']),\n",
        "    check_iyr(dict['iyr']),\n",
        "    check_eyr(dict['eyr']),\n",
        "    check_hgt(dict['hgt']),\n",
        "    check_hcl(dict['hcl']),\n",
        "    check_ecl(dict['ecl']),\n",
        "    check_pid(dict['pid'])]\n",
        "\n",
        "  res = True\n",
        "  for check in checks:\n",
        "    res = res and check\n",
        "\n",
        "  return res\n",
        "\n",
        "\n",
        "valid = 0\n",
        "for line in lines:\n",
        "  if line == '':\n",
        "    if check_passport(passport):\n",
        "      valid += int(check_passport2(passport))\n",
        "    passport = ''\n",
        "  else:\n",
        "    passport += line + ' '\n",
        "  \n",
        "print(\"Number of valid passports:\", valid)"
      ],
      "execution_count": null,
      "outputs": []
    }
  ]
}